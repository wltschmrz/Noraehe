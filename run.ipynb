{
 "cells": [
  {
   "cell_type": "code",
   "execution_count": null,
   "metadata": {
    "colab": {
     "base_uri": "https://localhost:8080/"
    },
    "collapsed": true,
    "executionInfo": {
     "elapsed": 106313,
     "status": "ok",
     "timestamp": 1728931691395,
     "user": {
      "displayName": "이건영",
      "userId": "04018543955246161192"
     },
     "user_tz": -540
    },
    "id": "nsrK4RJstFrt",
    "outputId": "3fa23ce8-7e79-405d-98db-f6fcd1b5a605"
   },
   "outputs": [
    {
     "name": "stdout",
     "output_type": "stream",
     "text": [
      "\u001b[2K     \u001b[90m━━━━━━━━━━━━━━━━━━━━━━━━━━━━━━━━━━━━━━━━\u001b[0m \u001b[32m171.3/171.3 kB\u001b[0m \u001b[31m7.2 MB/s\u001b[0m eta \u001b[36m0:00:00\u001b[0m\n",
      "\u001b[?25h  Preparing metadata (setup.py) ... \u001b[?25l\u001b[?25hdone\n",
      "\u001b[2K     \u001b[90m━━━━━━━━━━━━━━━━━━━━━━━━━━━━━━━━━━━━━━━━\u001b[0m \u001b[32m252.0/252.0 kB\u001b[0m \u001b[31m22.7 MB/s\u001b[0m eta \u001b[36m0:00:00\u001b[0m\n",
      "\u001b[?25h  Installing build dependencies ... \u001b[?25l\u001b[?25hdone\n",
      "  Getting requirements to build wheel ... \u001b[?25l\u001b[?25hdone\n",
      "  Preparing metadata (pyproject.toml) ... \u001b[?25l\u001b[?25hdone\n",
      "\u001b[2K     \u001b[90m━━━━━━━━━━━━━━━━━━━━━━━━━━━━━━━━━━━━━━━━\u001b[0m \u001b[32m117.0/117.0 kB\u001b[0m \u001b[31m12.5 MB/s\u001b[0m eta \u001b[36m0:00:00\u001b[0m\n",
      "\u001b[?25h  Preparing metadata (setup.py) ... \u001b[?25l\u001b[?25hdone\n",
      "\u001b[2K   \u001b[90m━━━━━━━━━━━━━━━━━━━━━━━━━━━━━━━━━━━━━━━━\u001b[0m \u001b[32m3.1/3.1 MB\u001b[0m \u001b[31m10.9 MB/s\u001b[0m eta \u001b[36m0:00:00\u001b[0m\n",
      "\u001b[2K   \u001b[90m━━━━━━━━━━━━━━━━━━━━━━━━━━━━━━━━━━━━━━━━\u001b[0m \u001b[32m85.5/85.5 MB\u001b[0m \u001b[31m26.0 MB/s\u001b[0m eta \u001b[36m0:00:00\u001b[0m\n",
      "\u001b[2K   \u001b[90m━━━━━━━━━━━━━━━━━━━━━━━━━━━━━━━━━━━━━━━━\u001b[0m \u001b[32m79.5/79.5 kB\u001b[0m \u001b[31m6.7 MB/s\u001b[0m eta \u001b[36m0:00:00\u001b[0m\n",
      "\u001b[2K   \u001b[90m━━━━━━━━━━━━━━━━━━━━━━━━━━━━━━━━━━━━━━━━\u001b[0m \u001b[32m161.1/161.1 kB\u001b[0m \u001b[31m4.6 MB/s\u001b[0m eta \u001b[36m0:00:00\u001b[0m\n",
      "\u001b[2K   \u001b[90m━━━━━━━━━━━━━━━━━━━━━━━━━━━━━━━━━━━━━━━━\u001b[0m \u001b[32m3.1/3.1 MB\u001b[0m \u001b[31m85.7 MB/s\u001b[0m eta \u001b[36m0:00:00\u001b[0m\n",
      "\u001b[2K   \u001b[90m━━━━━━━━━━━━━━━━━━━━━━━━━━━━━━━━━━━━━━━━\u001b[0m \u001b[32m164.1/164.1 kB\u001b[0m \u001b[31m15.2 MB/s\u001b[0m eta \u001b[36m0:00:00\u001b[0m\n",
      "\u001b[2K   \u001b[90m━━━━━━━━━━━━━━━━━━━━━━━━━━━━━━━━━━━━━━━━\u001b[0m \u001b[32m3.0/3.0 MB\u001b[0m \u001b[31m94.8 MB/s\u001b[0m eta \u001b[36m0:00:00\u001b[0m\n",
      "\u001b[2K   \u001b[90m━━━━━━━━━━━━━━━━━━━━━━━━━━━━━━━━━━━━━━━━\u001b[0m \u001b[32m194.4/194.4 kB\u001b[0m \u001b[31m15.5 MB/s\u001b[0m eta \u001b[36m0:00:00\u001b[0m\n",
      "\u001b[2K   \u001b[90m━━━━━━━━━━━━━━━━━━━━━━━━━━━━━━━━━━━━━━━━\u001b[0m \u001b[32m2.3/2.3 MB\u001b[0m \u001b[31m82.8 MB/s\u001b[0m eta \u001b[36m0:00:00\u001b[0m\n",
      "\u001b[?25h  Building wheel for crepe (setup.py) ... \u001b[?25l\u001b[?25hdone\n",
      "  Building wheel for antlr4-python3-runtime (setup.py) ... \u001b[?25l\u001b[?25hdone\n",
      "  Building wheel for pyworld (pyproject.toml) ... \u001b[?25l\u001b[?25hdone\n",
      "\u001b[2K     \u001b[90m━━━━━━━━━━━━━━━━━━━━━━━━━━━━━━━━━━━━━━━━\u001b[0m \u001b[32m1.2/1.2 MB\u001b[0m \u001b[31m54.7 MB/s\u001b[0m eta \u001b[36m0:00:00\u001b[0m\n",
      "\u001b[?25h  Preparing metadata (setup.py) ... \u001b[?25l\u001b[?25hdone\n",
      "\u001b[2K     \u001b[90m━━━━━━━━━━━━━━━━━━━━━━━━━━━━━━━━━━━━━━━━\u001b[0m \u001b[32m87.1/87.1 kB\u001b[0m \u001b[31m7.6 MB/s\u001b[0m eta \u001b[36m0:00:00\u001b[0m\n",
      "\u001b[?25h  Installing build dependencies ... \u001b[?25l\u001b[?25hdone\n",
      "  Getting requirements to build wheel ... \u001b[?25l\u001b[?25hdone\n",
      "  Preparing metadata (pyproject.toml) ... \u001b[?25l\u001b[?25hdone\n",
      "\u001b[2K     \u001b[90m━━━━━━━━━━━━━━━━━━━━━━━━━━━━━━━━━━━━━━━━\u001b[0m \u001b[32m59.6/59.6 kB\u001b[0m \u001b[31m5.7 MB/s\u001b[0m eta \u001b[36m0:00:00\u001b[0m\n",
      "\u001b[?25h  Preparing metadata (setup.py) ... \u001b[?25l\u001b[?25hdone\n",
      "  Preparing metadata (setup.py) ... \u001b[?25l\u001b[?25hdone\n",
      "\u001b[2K   \u001b[90m━━━━━━━━━━━━━━━━━━━━━━━━━━━━━━━━━━━━━━━━\u001b[0m \u001b[32m239.8/239.8 kB\u001b[0m \u001b[31m19.9 MB/s\u001b[0m eta \u001b[36m0:00:00\u001b[0m\n",
      "\u001b[2K   \u001b[90m━━━━━━━━━━━━━━━━━━━━━━━━━━━━━━━━━━━━━━━━\u001b[0m \u001b[32m40.0/40.0 kB\u001b[0m \u001b[31m3.4 MB/s\u001b[0m eta \u001b[36m0:00:00\u001b[0m\n",
      "\u001b[2K   \u001b[90m━━━━━━━━━━━━━━━━━━━━━━━━━━━━━━━━━━━━━━━━\u001b[0m \u001b[32m74.9/74.9 kB\u001b[0m \u001b[31m7.4 MB/s\u001b[0m eta \u001b[36m0:00:00\u001b[0m\n",
      "\u001b[?25h  Building wheel for demucs (setup.py) ... \u001b[?25l\u001b[?25hdone\n",
      "  Building wheel for julius (setup.py) ... \u001b[?25l\u001b[?25hdone\n",
      "  Building wheel for dora-search (pyproject.toml) ... \u001b[?25l\u001b[?25hdone\n",
      "  Building wheel for treetable (setup.py) ... \u001b[?25l\u001b[?25hdone\n",
      "\u001b[2K   \u001b[90m━━━━━━━━━━━━━━━━━━━━━━━━━━━━━━━━━━━━━━━━\u001b[0m \u001b[32m255.2/255.2 kB\u001b[0m \u001b[31m16.2 MB/s\u001b[0m eta \u001b[36m0:00:00\u001b[0m\n",
      "\u001b[?25h"
     ]
    }
   ],
   "source": [
    "# !pip install yt_dlp pydub crepe faiss-gpu omegaconf pyworld sentence_transformers --quiet\n",
    "!python3 -m pip install -r requirements.txt --quiet"
   ]
  },
  {
   "cell_type": "code",
   "execution_count": 2,
   "metadata": {
    "colab": {
     "base_uri": "https://localhost:8080/"
    },
    "executionInfo": {
     "elapsed": 27981,
     "status": "ok",
     "timestamp": 1728931719368,
     "user": {
      "displayName": "이건영",
      "userId": "04018543955246161192"
     },
     "user_tz": -540
    },
    "id": "4mSEP1b1uEQe",
    "outputId": "2e3a3918-e55f-4772-b6ac-a3916976ac03"
   },
   "outputs": [
    {
     "name": "stdout",
     "output_type": "stream",
     "text": [
      "Mounted at /content/drive\n"
     ]
    }
   ],
   "source": [
    "from google.colab import drive\n",
    "drive.mount('/content/drive')"
   ]
  },
  {
   "cell_type": "code",
   "execution_count": 1,
   "metadata": {
    "colab": {
     "base_uri": "https://localhost:8080/"
    },
    "executionInfo": {
     "elapsed": 897,
     "status": "ok",
     "timestamp": 1728932001124,
     "user": {
      "displayName": "이건영",
      "userId": "04018543955246161192"
     },
     "user_tz": -540
    },
    "id": "yYmB2o3YtOCG",
    "outputId": "bea29463-8752-4baf-a9b9-88d785f610a0"
   },
   "outputs": [
    {
     "name": "stdout",
     "output_type": "stream",
     "text": [
      "/content/drive/MyDrive/projects/Noraehe_final\n"
     ]
    }
   ],
   "source": [
    "%cd '/content/drive/MyDrive/projects/Noraehe_final'"
   ]
  },
  {
   "cell_type": "code",
   "execution_count": null,
   "metadata": {
    "id": "FH52VG8ItbMT"
   },
   "outputs": [],
   "source": [
    "# !python main_previous.py --quiet"
   ]
  },
  {
   "cell_type": "code",
   "execution_count": 2,
   "metadata": {
    "colab": {
     "base_uri": "https://localhost:8080/"
    },
    "executionInfo": {
     "elapsed": 116685,
     "status": "ok",
     "timestamp": 1728932118430,
     "user": {
      "displayName": "이건영",
      "userId": "04018543955246161192"
     },
     "user_tz": -540
    },
    "id": "88ycxQcpXlSe",
    "outputId": "b32a6e6e-5dc2-4040-ac6a-9a2ba73fcf78"
   },
   "outputs": [
    {
     "name": "stdout",
     "output_type": "stream",
     "text": [
      "2024-10-14 18:53:23.335654: I tensorflow/core/util/port.cc:153] oneDNN custom operations are on. You may see slightly different numerical results due to floating-point round-off errors from different computation orders. To turn them off, set the environment variable `TF_ENABLE_ONEDNN_OPTS=0`.\n",
      "2024-10-14 18:53:23.353575: E external/local_xla/xla/stream_executor/cuda/cuda_fft.cc:485] Unable to register cuFFT factory: Attempting to register factory for plugin cuFFT when one has already been registered\n",
      "2024-10-14 18:53:23.375232: E external/local_xla/xla/stream_executor/cuda/cuda_dnn.cc:8454] Unable to register cuDNN factory: Attempting to register factory for plugin cuDNN when one has already been registered\n",
      "2024-10-14 18:53:23.382404: E external/local_xla/xla/stream_executor/cuda/cuda_blas.cc:1452] Unable to register cuBLAS factory: Attempting to register factory for plugin cuBLAS when one has already been registered\n",
      "2024-10-14 18:53:23.399460: I tensorflow/core/platform/cpu_feature_guard.cc:210] This TensorFlow binary is optimized to use available CPU instructions in performance-critical operations.\n",
      "To enable the following instructions: AVX2 AVX512F AVX512_VNNI FMA, in other operations, rebuild TensorFlow with the appropriate compiler flags.\n",
      "2024-10-14 18:53:24.625968: W tensorflow/compiler/tf2tensorrt/utils/py_utils.cc:38] TF-TRT Warning: Could not find TensorRT\n",
      "INFO:faiss.loader:Loading faiss with AVX2 support.\n",
      "INFO:faiss.loader:Could not load library with AVX2 support due to:\n",
      "ModuleNotFoundError(\"No module named 'faiss.swigfaiss_avx2'\")\n",
      "INFO:faiss.loader:Loading faiss.\n",
      "INFO:faiss.loader:Successfully loaded faiss.\n",
      "INFO:sentence_transformers.SentenceTransformer:Use pytorch device_name: cuda\n",
      "INFO:sentence_transformers.SentenceTransformer:Load pretrained SentenceTransformer: distiluse-base-multilingual-cased-v1\n",
      "/usr/local/lib/python3.10/dist-packages/transformers/tokenization_utils_base.py:1601: FutureWarning: `clean_up_tokenization_spaces` was not set. It will be set to `True` by default. This behavior will be depracted in transformers v4.45, and will be then set to `False` by default. For more details check this issue: https://github.com/huggingface/transformers/issues/31884\n",
      "  warnings.warn(\n",
      "1. Memory usage: 1212.77 MB\n",
      "Selected model is a bag of 1 models. You will see that many progress bars per track.\n",
      "Separated tracks will be stored in /content/drive/MyDrive/projects/Noraehe_final/data/user/htdemucs\n",
      "Separating track src/sikyoung.wav\n",
      "100%|████████████████████████████████████████████████████████████████████████| 245.7/245.7 [00:05<00:00, 41.41seconds/s]\n",
      "INFO:src.pitch_detecting.audio_processor:Separated vocals from ./src/sikyoung.wav\n",
      "2024-10-14 18:53:41.291406: W tensorflow/core/common_runtime/gpu/gpu_bfc_allocator.cc:47] Overriding orig_value setting because the TF_FORCE_GPU_ALLOW_GROWTH environment variable is set. Original config value was 0.\n",
      "2024-10-14 18:53:41.291562: I tensorflow/core/common_runtime/gpu/gpu_device.cc:2021] Created device /job:localhost/replica:0/task:0/device:GPU:0 with 19612 MB memory:  -> device: 0, name: NVIDIA L4, pci bus id: 0000:00:03.0, compute capability: 8.9\n",
      "WARNING: All log messages before absl::InitializeLog() is called are written to STDERR\n",
      "I0000 00:00:1728932029.958119    3472 service.cc:146] XLA service 0x7f71dc003760 initialized for platform CUDA (this does not guarantee that XLA will be used). Devices:\n",
      "I0000 00:00:1728932029.958178    3472 service.cc:154]   StreamExecutor device (0): NVIDIA L4, Compute Capability 8.9\n",
      "2024-10-14 18:53:49.970220: I tensorflow/compiler/mlir/tensorflow/utils/dump_mlir_util.cc:268] disabling MLIR crash reproducer, set env var `MLIR_CRASH_REPRODUCER_DIRECTORY` to enable.\n",
      "2024-10-14 18:53:50.040391: I external/local_xla/xla/stream_executor/cuda/cuda_dnn.cc:531] Loaded cuDNN version 8906\n",
      "2024-10-14 18:53:50.682795: W external/local_tsl/tsl/framework/bfc_allocator.cc:291] Allocator (GPU_0_bfc) ran out of memory trying to allocate 80.67GiB with freed_by_count=0. The caller indicates that this is not a failure, but this may mean that there could be performance gains if more memory were available.\n",
      "2024-10-14 18:53:51.613615: W external/local_tsl/tsl/framework/bfc_allocator.cc:363] Garbage collection: deallocate free memory regions (i.e., allocations) so that we can re-allocate a larger region to avoid OOM due to memory fragmentation. If you see this message frequently, you are running near the threshold of the available device memory and re-allocation may incur great performance overhead. You may try smaller batch sizes to observe the performance impact. Set TF_ENABLE_GPU_GARBAGE_COLLECTION=false if you'd like to disable this feature.\n",
      "2024-10-14 18:53:52.613758: E external/local_xla/xla/service/slow_operation_alarm.cc:65] Trying algorithm eng12{k11=0} for conv (f32[32,512,8,1]{3,2,1,0}, u8[0]{0}) custom-call(f32[32,256,71,1]{3,2,1,0}, f32[512,256,64,1]{3,2,1,0}, f32[512]{0}), window={size=64x1}, dim_labels=bf01_oi01->bf01, custom_call_target=\"__cudnn$convBiasActivationForward\", backend_config={\"operation_queue_id\":\"0\",\"wait_on_operation_queues\":[],\"cudnn_conv_backend_config\":{\"conv_result_scale\":1,\"activation_mode\":\"kRelu\",\"side_input_scale\":0,\"leakyrelu_alpha\":0},\"force_earliest_schedule\":false} is taking a while...\n",
      "2024-10-14 18:53:53.023541: E external/local_xla/xla/service/slow_operation_alarm.cc:133] The operation took 1.409931086s\n",
      "Trying algorithm eng12{k11=0} for conv (f32[32,512,8,1]{3,2,1,0}, u8[0]{0}) custom-call(f32[32,256,71,1]{3,2,1,0}, f32[512,256,64,1]{3,2,1,0}, f32[512]{0}), window={size=64x1}, dim_labels=bf01_oi01->bf01, custom_call_target=\"__cudnn$convBiasActivationForward\", backend_config={\"operation_queue_id\":\"0\",\"wait_on_operation_queues\":[],\"cudnn_conv_backend_config\":{\"conv_result_scale\":1,\"activation_mode\":\"kRelu\",\"side_input_scale\":0,\"leakyrelu_alpha\":0},\"force_earliest_schedule\":false} is taking a while...\n",
      "I0000 00:00:1728932033.228568    3472 device_compiler.h:188] Compiled cluster using XLA!  This line is logged at most once for the lifetime of the process.\n",
      "\u001b[1m744/753\u001b[0m \u001b[32m━━━━━━━━━━━━━━━━━━━\u001b[0m\u001b[37m━\u001b[0m \u001b[1m0s\u001b[0m 6ms/step2024-10-14 18:53:57.930625: W external/local_tsl/tsl/framework/bfc_allocator.cc:291] Allocator (GPU_0_bfc) ran out of memory trying to allocate 66.06GiB with freed_by_count=0. The caller indicates that this is not a failure, but this may mean that there could be performance gains if more memory were available.\n",
      "\u001b[1m753/753\u001b[0m \u001b[32m━━━━━━━━━━━━━━━━━━━━\u001b[0m\u001b[37m\u001b[0m \u001b[1m9s\u001b[0m 7ms/step\n",
      " > Setting up Audio Processor...\n",
      "INFO:src.pitch_detecting.audio_processor:Deleted: /content/drive/MyDrive/projects/Noraehe_final/data/user\n",
      "Batches: 100% 1/1 [00:00<00:00,  6.07it/s]\n",
      "link: evOsUf9en-Y / title: 너의 모든 순간 - 성시경 / 가사 / range: ('F2', 'A#4')\n",
      ">> 추천 키 조정: 0번 음정 낮춤 버튼을 누르고, 1 옥타브 낮춰 부르세요.\n",
      "\n",
      "link: uqQqnWfJyAA / title: 닐로 - 지나오다 / 가사 / range: ('A2', 'D#5')\n",
      ">> 추천 키 조정: 5번 음정 낮춤 버튼을 누르고, 1 옥타브 낮춰 부르세요.\n",
      "\n",
      "link: FIdFoxVnGgE / title: 신예영 - 우리 왜 헤어져야 해 / 가사 / range: ('D#3', 'G5')\n",
      ">> 추천 키 조정: 3번 음정 높임 버튼을 누르고, 2 옥타브 낮춰 부르세요.\n",
      "\n",
      "link: lAq9l8o6UXU / title: 주호 - 내가 아니라도 [가사] / range: ('B2', 'D5')\n",
      ">> 추천 키 조정: 4번 음정 낮춤 버튼을 누르고, 1 옥타브 낮춰 부르세요.\n",
      "\n",
      "link: uCT4YCk6cvs / title: 임한별 - 사랑하지 않아서 그랬어 / Kpop / Lyrics / 가사 / range: ('B2', 'D5')\n",
      ">> 추천 키 조정: 4번 음정 낮춤 버튼을 누르고, 1 옥타브 낮춰 부르세요.\n",
      "\n",
      "\u001b[KINFO:src.pitch_detecting.audio_processor:Downloaded youtube to .wav: 너의 모든 순간 - 성시경 / 가사, https://www.youtube.com/watch?v=evOsUf9en-Y\n",
      "Selected model is a bag of 1 models. You will see that many progress bars per track.\n",
      "Separated tracks will be stored in /content/drive/MyDrive/projects/Noraehe_final/data/yt/htdemucs\n",
      "Separating track /content/drive/MyDrive/projects/Noraehe_final/data/evOsUf9en-Y.wav\n",
      "100%|████████████████████████████████████████████████████████████████████████| 245.7/245.7 [00:04<00:00, 50.39seconds/s]\n",
      "INFO:src.pitch_detecting.audio_processor:Separated vocals from /content/drive/MyDrive/projects/Noraehe_final/data/evOsUf9en-Y.wav\n",
      "\u001b[1m750/752\u001b[0m \u001b[32m━━━━━━━━━━━━━━━━━━━\u001b[0m\u001b[37m━\u001b[0m \u001b[1m0s\u001b[0m 6ms/step2024-10-14 18:54:33.710472: W external/local_tsl/tsl/framework/bfc_allocator.cc:291] Allocator (GPU_0_bfc) ran out of memory trying to allocate 79.66GiB with freed_by_count=0. The caller indicates that this is not a failure, but this may mean that there could be performance gains if more memory were available.\n",
      "\u001b[1m752/752\u001b[0m \u001b[32m━━━━━━━━━━━━━━━━━━━━\u001b[0m\u001b[37m\u001b[0m \u001b[1m7s\u001b[0m 9ms/step\n",
      " > Setting up Audio Processor...\n",
      "INFO:src.pitch_detecting.audio_processor:Deleted: /content/drive/MyDrive/projects/Noraehe_final/data/evOsUf9en-Y.wav\n",
      "INFO:src.pitch_detecting.audio_processor:Deleted: /content/drive/MyDrive/projects/Noraehe_final/data/yt\n",
      ">> 추천 키 조정: 0번 음정 낮춤 버튼을 누르고, 1 옥타브 낮춰 부르세요.\n",
      "\n",
      "2. Memory usage: 3602.27 MB\n",
      "Selected model is a bag of 1 models. You will see that many progress bars per track.\n",
      "Separated tracks will be stored in /content/drive/MyDrive/projects/Noraehe_final/data/user/htdemucs\n",
      "Separating track src/sikyoung.wav\n",
      "100%|████████████████████████████████████████████████████████████████████████| 245.7/245.7 [00:04<00:00, 51.20seconds/s]\n",
      "INFO:src.pitch_detecting.audio_processor:Separated vocals from ./src/sikyoung.wav\n",
      "\u001b[1m753/753\u001b[0m \u001b[32m━━━━━━━━━━━━━━━━━━━━\u001b[0m\u001b[37m\u001b[0m \u001b[1m4s\u001b[0m 6ms/step\n",
      " > Setting up Audio Processor...\n",
      "INFO:src.pitch_detecting.audio_processor:Deleted: /content/drive/MyDrive/projects/Noraehe_final/data/user\n",
      "link: evOsUf9en-Y / title: 너의 모든 순간 - 성시경 / 가사 / range: ('F2', 'A#4')\n",
      ">> 추천 키 조정: 1번 음정 높임 버튼을 누르세요.\n",
      "link: uqQqnWfJyAA / title: 닐로 - 지나오다 / 가사 / range: ('A2', 'D#5')\n",
      ">> 추천 키 조정: 4번 음정 낮춤 버튼을 누르세요.\n",
      "link: 4Sd09Mruhnk / title: [MV] Kim na young(김나영) _ To be honest(솔직하게 말해서 나) / range: ('C3', 'G#5')\n",
      ">> 추천 키 조정: 3번 음정 높임 버튼을 누르고, 1 옥타브 낮춰 부르세요.\n",
      "\n",
      "link: uCT4YCk6cvs / title: 임한별 - 사랑하지 않아서 그랬어 / Kpop / Lyrics / 가사 / range: ('B2', 'D5')\n",
      ">> 추천 키 조정: 3번 음정 낮춤 버튼을 누르세요.\n",
      "link: lAq9l8o6UXU / title: 주호 - 내가 아니라도 [가사] / range: ('B2', 'D5')\n",
      ">> 추천 키 조정: 3번 음정 낮춤 버튼을 누르세요.\n",
      "3. Memory usage: 3564.79 MB\n"
     ]
    }
   ],
   "source": [
    "!python main.py"
   ]
  }
 ],
 "metadata": {
  "accelerator": "GPU",
  "colab": {
   "gpuType": "L4",
   "machine_shape": "hm",
   "provenance": []
  },
  "kernelspec": {
   "display_name": "Python 3",
   "name": "python3"
  },
  "language_info": {
   "name": "python"
  }
 },
 "nbformat": 4,
 "nbformat_minor": 0
}
